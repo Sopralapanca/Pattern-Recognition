{
  "nbformat": 4,
  "nbformat_minor": 0,
  "metadata": {
    "colab": {
      "provenance": [],
      "include_colab_link": true
    },
    "kernelspec": {
      "name": "python3",
      "display_name": "Python 3"
    },
    "language_info": {
      "name": "python"
    }
  },
  "cells": [
    {
      "cell_type": "markdown",
      "metadata": {
        "id": "view-in-github",
        "colab_type": "text"
      },
      "source": [
        "<a href=\"https://colab.research.google.com/github/Sopralapanca/Pattern-Recognition/blob/main/ASSIGNMENT_1_GIACOMO_CARFI_AUTOENCODER.ipynb\" target=\"_parent\"><img src=\"https://colab.research.google.com/assets/colab-badge.svg\" alt=\"Open In Colab\"/></a>"
      ]
    },
    {
      "cell_type": "markdown",
      "source": [
        "Train a denoising or a contractive autoencoder on the MNIST dataset: try out different architectures for the autoencoder, including a single layer autoencoder, a deep autoencoder with only layerwise pretraining and a deep autoencoder with fine tuning. It is up to you to decide how many neurons in each layer and how many layers you want in the deep autoencoder. Show an accuracy comparison between the different configurations.\n",
        "\n",
        "Given the encoding z1 of image x1 (obtained in the hidden layer of the autoencoder) and z2 of image x2, a latent space interpolation is an encoding that is obtained with the linear interpolation z* = a*z1 + (1 - a)*z2, with a in [0, 1]. Perform a latent space interpolation (with some choices of a) using:\n",
        "- z1 and z2 from the same class\n",
        "- z1 and z2 from different classes\n",
        "\n",
        "Once you have the interpolated encoding z* visualize its image reconstructions (obtained through the decoder) and discuss the results."
      ],
      "metadata": {
        "id": "jepyCdYojZY2"
      }
    },
    {
      "cell_type": "markdown",
      "source": [
        "# Loading the dataset"
      ],
      "metadata": {
        "id": "t_ZEYBhDjcSm"
      }
    },
    {
      "cell_type": "markdown",
      "source": [
        "https://github.com/Andrew-Wyn/ISPR_HWS/blob/master/MidTerm3_1/ISPR_HW3.ipynb"
      ],
      "metadata": {
        "id": "lpgdVTgCqyur"
      }
    },
    {
      "cell_type": "code",
      "execution_count": 1,
      "metadata": {
        "id": "iDQi2T-yhr5e"
      },
      "outputs": [],
      "source": [
        "%%capture\n",
        "import torch\n",
        "import torchvision\n",
        "from torchvision import datasets\n",
        "import torchvision.transforms as transforms\n",
        "\n",
        "# convert data to torch.FloatTensor\n",
        "transform = transforms.ToTensor()\n",
        "\n",
        "# load the training and test datasets\n",
        "train_data = datasets.MNIST(root='~/.pytorch/MNIST_data/', train=True,\n",
        "                                   download=True, transform=transform)\n",
        "test_data = datasets.MNIST(root='~/.pytorch/MNIST_data/', train=False,\n",
        "                                  download=True, transform=transform)"
      ]
    },
    {
      "cell_type": "code",
      "source": [
        "def split_data_and_label(dataset):\n",
        "  X = dataset.data.float()\n",
        "  y = dataset.targets\n",
        "  return X,y"
      ],
      "metadata": {
        "id": "LUvRFfqJDG9y"
      },
      "execution_count": 2,
      "outputs": []
    },
    {
      "cell_type": "code",
      "source": [
        "# visualize the data\n",
        "import matplotlib.pyplot as plt\n",
        "import numpy as np\n",
        "\n",
        "def plot_example(X, y):\n",
        "    \"\"\"Plot the first 5 images and their labels in a row.\"\"\"\n",
        "    for i, (img, y) in enumerate(zip(X[:5].reshape(5, 28, 28), y[:5])):\n",
        "        plt.subplot(151 + i)\n",
        "        plt.imshow(img, cmap='gray', interpolation='nearest')\n",
        "        plt.xticks([])\n",
        "        plt.yticks([])\n",
        "        plt.title(y.item())\n",
        "\n",
        "X_train, y_train = split_data_and_label(train_data)\n",
        "X_test, y_test = split_data_and_label(test_data)\n",
        "\n",
        "plot_example(X_train, y_train)"
      ],
      "metadata": {
        "colab": {
          "base_uri": "https://localhost:8080/",
          "height": 144
        },
        "id": "HwsGCGZ4lWEa",
        "outputId": "e08049df-d6ad-42f5-c2c6-9472f62ab0e6"
      },
      "execution_count": 3,
      "outputs": [
        {
          "output_type": "display_data",
          "data": {
            "text/plain": [
              "<Figure size 640x480 with 5 Axes>"
            ],
            "image/png": "[encoded data removed]"
          },
          "metadata": {}
        }
      ]
    },
    {
      "cell_type": "code",
      "source": [
        "# use gpu if available\n",
        "device = torch.device(\"cuda\" if torch.cuda.is_available() else \"cpu\")\n",
        "print(f\"Available device: {device}\")"
      ],
      "metadata": {
        "id": "gyXMC5wjSqEP",
        "outputId": "e0da92cf-aa99-4995-cedb-d7f327f398f6",
        "colab": {
          "base_uri": "https://localhost:8080/"
        }
      },
      "execution_count": 4,
      "outputs": [
        {
          "output_type": "stream",
          "name": "stdout",
          "text": [
            "Available device: cpu\n"
          ]
        }
      ]
    },
    {
      "cell_type": "markdown",
      "source": [
        "# Preparing the dataset"
      ],
      "metadata": {
        "id": "voSfCM16vUzr"
      }
    },
    {
      "cell_type": "code",
      "source": [
        "from sklearn.preprocessing import MinMaxScaler\n",
        "minmaxscaler = MinMaxScaler()\n",
        "\n",
        "# resize the dataset - flatten\n",
        "X_train = X_train.view(-1, 784)\n",
        "X_test = X_test.view(-1, 784)\n",
        "\n",
        "# scaling the dataset\n",
        "X_train = torch.Tensor(minmaxscaler.fit_transform(X_train))\n",
        "X_test = torch.Tensor(minmaxscaler.transform(X_test))\n",
        "print(\"Max:\", torch.max(X_train).item())\n",
        "print(\"Min:\", torch.min(X_train).item())"
      ],
      "metadata": {
        "id": "nJSQYGnrvXt9",
        "colab": {
          "base_uri": "https://localhost:8080/"
        },
        "outputId": "7058224c-e88f-44c1-d9d3-ae12fc9c37e1"
      },
      "execution_count": 5,
      "outputs": [
        {
          "output_type": "stream",
          "name": "stdout",
          "text": [
            "Max: 1.0\n",
            "Min: 0.0\n"
          ]
        }
      ]
    },
    {
      "cell_type": "markdown",
      "source": [
        "The implementation chosen for this assignment is a **denoising autoencoder**, so below a method for adding noise to images is implemented"
      ],
      "metadata": {
        "id": "dIjRDENwOnXm"
      }
    },
    {
      "cell_type": "code",
      "source": [
        "# add noise to the images\n",
        "def add_noise(X, mean=0, std=1):\n",
        "  noisy_imgs = X + torch.randn(X.shape)*std + mean \n",
        "  # Clip the images to be between 0 and 1\n",
        "  noisy_imgs = np.clip(noisy_imgs, 0., 1.)\n",
        "  return noisy_imgs"
      ],
      "metadata": {
        "id": "zrjbgzNBKKo0"
      },
      "execution_count": 6,
      "outputs": []
    },
    {
      "cell_type": "code",
      "source": [
        "noise_std = 0.3\n",
        "X_train_noisy = add_noise(X_train[:5], 0, noise_std)\n",
        "plot_example(X_train_noisy, y_train)"
      ],
      "metadata": {
        "colab": {
          "base_uri": "https://localhost:8080/",
          "height": 144
        },
        "id": "ApVl_yJON8vX",
        "outputId": "ac4a3a8e-1f3d-4b2b-9442-77bd4e215745"
      },
      "execution_count": 7,
      "outputs": [
        {
          "output_type": "display_data",
          "data": {
            "text/plain": [
              "<Figure size 640x480 with 5 Axes>"
            ],
            "image/png": "[encoded data removed]"
          },
          "metadata": {}
        }
      ]
    },
    {
      "cell_type": "markdown",
      "source": [
        "# Utils"
      ],
      "metadata": {
        "id": "M_2_idj4SQ8G"
      }
    },
    {
      "cell_type": "code",
      "source": [
        "import torch.nn as nn\n",
        "import torch.nn.functional as F"
      ],
      "metadata": {
        "id": "ynfL7ObRSUwn"
      },
      "execution_count": 8,
      "outputs": []
    },
    {
      "cell_type": "code",
      "source": [
        "def fit(epochs, model, criterion, X_train, optimizer):\n",
        "  # prepare data loaders\n",
        "  train_loader = torch.utils.data.DataLoader(X_train, batch_size=20, shuffle=True)\n",
        "  \n",
        "  history = []\n",
        "\n",
        "  for epoch in range(1, epochs+1):\n",
        "    train_loss=0.0\n",
        "\n",
        "    for images in train_loader:\n",
        "      # reset gradient\n",
        "      optimizer.zero_grad()\n",
        "\n",
        "      # add noise\n",
        "      noisy_images = add_noise(images, 0, noise_std)\n",
        "\n",
        "      #forward pass\n",
        "      output = model(noisy_images)\n",
        "      \n",
        "      loss = criterion(output, images)\n",
        "\n",
        "      # optimizer step and backward pass\n",
        "      loss.backward()\n",
        "      optimizer.step()\n",
        "\n",
        "      train_loss += loss.item()*images.size(0)\n",
        "    \n",
        "    # print avg training statistics \n",
        "    train_loss = train_loss/len(train_loader)\n",
        "    print(f'Epoch: {epoch} \\tTraining Loss: {train_loss}')\n",
        "    history.append(train_loss)\n",
        "    \n",
        "  return history"
      ],
      "metadata": {
        "id": "W3V98mlXTYjF"
      },
      "execution_count": 9,
      "outputs": []
    },
    {
      "cell_type": "code",
      "source": [
        "def evaluate(model, data, criterion):\n",
        "  X_test_noisy = add_noise(data, 0, noise_std)\n",
        "  with torch.no_grad():\n",
        "    output = model(X_test_noisy)\n",
        "    loss = criterion(output, data) \n",
        "\n",
        "  return loss, X_test_noisy, output"
      ],
      "metadata": {
        "id": "gmhEg8FhdrbI"
      },
      "execution_count": 10,
      "outputs": []
    },
    {
      "cell_type": "code",
      "source": [
        "def check_results(input, denoised, original, label):\n",
        "  # show images and their reconstruction\n",
        "  rows = 3\n",
        "  columns = 5\n",
        "\n",
        "  fig, axes = plt.subplots(rows, columns,sharey = True,figsize=(30, 10))\n",
        "  for i in range(rows):\n",
        "      for j in range(columns):\n",
        "          if i==0:\n",
        "            axes[i, j].imshow(input[j].reshape(28, 28), cmap='gray')\n",
        "            axes[i, j].set_title(label[j].item(), fontsize=20) \n",
        "          if i==1:\n",
        "            axes[i, j].imshow(denoised[j].reshape(28, 28), cmap='gray')\n",
        "          if i==2:\n",
        "            axes[i, j].imshow(original[j].reshape(28, 28), cmap='gray')\n",
        "\n",
        "          axes[i, j].tick_params(left = False, right = False , labelleft = False,\n",
        "                  labelbottom = False, bottom = False)\n",
        "          \n",
        "  axes[0, 0].set_ylabel(\"INPUT\", fontsize=20)        \n",
        "  axes[1, 0].set_ylabel(\"DENOISED\", fontsize=20)\n",
        "  axes[2, 0].set_ylabel(\"ORIGINAL\", fontsize=20)\n",
        "  \n",
        "  plt.show()"
      ],
      "metadata": {
        "id": "MbcTpGsdbhBH"
      },
      "execution_count": 11,
      "outputs": []
    },
    {
      "cell_type": "code",
      "source": [
        "# counting the number of free params of the model\n",
        "def count_parameters(model):\n",
        "    free_params =  sum(p.numel() for p in model.parameters() if p.requires_grad)\n",
        "    print(f\"The model has {free_params} free params\")"
      ],
      "metadata": {
        "id": "yB5GnoJr-8hE"
      },
      "execution_count": 12,
      "outputs": []
    },
    {
      "cell_type": "markdown",
      "source": [
        "# Autoencoder definition"
      ],
      "metadata": {
        "id": "LASZt2i6yGLr"
      }
    },
    {
      "cell_type": "code",
      "source": [
        "class Autoencoder(nn.Module):\n",
        "  def __init__(self, input_dim, enc_dim, last_layer=True):\n",
        "    super(Autoencoder, self).__init__()\n",
        "    self.last_layer = last_layer\n",
        "    self.input_dim = input_dim\n",
        "    self.enc_dim = enc_dim\n",
        "    # encoder made of one linear layer that maps a vector of size input dim into a vector of size enc_dim\n",
        "    self.encoder = nn.Linear(input_dim, enc_dim)\n",
        "    # the decoder will reconstruct the image in the original space\n",
        "    self.decoder = nn.Linear(enc_dim, input_dim)\n",
        "\n",
        "    self.enc_activation = nn.ReLU()\n",
        "\n",
        "    if self.last_layer:\n",
        "      self.dec_act = nn.Sigmoid()\n",
        "    else:\n",
        "      self.dec_act = nn.ReLU()\n",
        "   \n",
        "  def encode(self, x):\n",
        "    x = self.encoder(x)\n",
        "    x = self.enc_activation(x)\n",
        "    return x\n",
        "  \n",
        "  def decode(self, x):\n",
        "    x = self.decoder(x)\n",
        "    x = self.dec_act(x)\n",
        "    return x\n",
        "\n",
        "  def forward(self, x):\n",
        "    x = self.encode(x)\n",
        "    x = self.decode(x)\n",
        "    return x"
      ],
      "metadata": {
        "id": "GkQJdGkUOM7O"
      },
      "execution_count": 44,
      "outputs": []
    },
    {
      "cell_type": "code",
      "source": [
        "criterion = nn.MSELoss()\n",
        "epochs=10"
      ],
      "metadata": {
        "id": "E_PmezmeITji"
      },
      "execution_count": 45,
      "outputs": []
    },
    {
      "cell_type": "markdown",
      "source": [
        "# Single Layer Autoencoder"
      ],
      "metadata": {
        "id": "IEyhx-YWOKl0"
      }
    },
    {
      "cell_type": "code",
      "source": [
        "model = Autoencoder(X_train.shape[1], 128)\n",
        "optimizer = torch.optim.Adam(model.parameters(), lr=0.001)\n",
        "count_parameters(model)"
      ],
      "metadata": {
        "colab": {
          "base_uri": "https://localhost:8080/"
        },
        "id": "mhDIfUD2HzXP",
        "outputId": "92862a32-cbeb-4ffd-da3c-a1b546d6d228"
      },
      "execution_count": 15,
      "outputs": [
        {
          "output_type": "stream",
          "name": "stdout",
          "text": [
            "The model has 201616 free params\n"
          ]
        }
      ]
    },
    {
      "cell_type": "code",
      "source": [
        "history = fit(epochs, model, criterion, X_train, optimizer)"
      ],
      "metadata": {
        "id": "r_V7IQbESJsF",
        "colab": {
          "base_uri": "https://localhost:8080/"
        },
        "outputId": "1a0d6a9b-8bcb-4799-f747-6469f8b752cb"
      },
      "execution_count": 16,
      "outputs": [
        {
          "output_type": "stream",
          "name": "stdout",
          "text": [
            "Epoch: 1 \tTraining Loss: 0.414570531056573\n",
            "Epoch: 2 \tTraining Loss: 0.197280396859472\n",
            "Epoch: 3 \tTraining Loss: 0.17557749101271233\n",
            "Epoch: 4 \tTraining Loss: 0.1661866417278846\n",
            "Epoch: 5 \tTraining Loss: 0.1609704628835122\n",
            "Epoch: 6 \tTraining Loss: 0.1583276628361394\n",
            "Epoch: 7 \tTraining Loss: 0.15698056320659817\n",
            "Epoch: 8 \tTraining Loss: 0.15591326407156886\n",
            "Epoch: 9 \tTraining Loss: 0.1555334572152545\n",
            "Epoch: 10 \tTraining Loss: 0.15516753489462037\n"
          ]
        }
      ]
    },
    {
      "cell_type": "code",
      "source": [
        "loss, noisy_data, denoised = evaluate(model, X_test, criterion)\n",
        "print(\"Single layer AutoEncoder loss:\", loss.item())"
      ],
      "metadata": {
        "id": "fhvWASEgfzJo",
        "colab": {
          "base_uri": "https://localhost:8080/"
        },
        "outputId": "65ddd5bc-6e26-4efd-ed81-322838a59d3b"
      },
      "execution_count": 17,
      "outputs": [
        {
          "output_type": "stream",
          "name": "stdout",
          "text": [
            "Single layer AutoEncoder loss: 0.007730334065854549\n"
          ]
        }
      ]
    },
    {
      "cell_type": "code",
      "source": [
        "check_results(noisy_data, denoised, X_test, y_test)"
      ],
      "metadata": {
        "colab": {
          "base_uri": "https://localhost:8080/",
          "height": 543
        },
        "id": "zE69VIH3gu9t",
        "outputId": "5107fbfe-b247-4588-a91b-79f00268711b"
      },
      "execution_count": 18,
      "outputs": [
        {
          "output_type": "display_data",
          "data": {
            "text/plain": [
              "<Figure size 3000x1000 with 15 Axes>"
            ],
            "image/png": "[encoded data removed]"
          },
          "metadata": {}
        }
      ]
    },
    {
      "cell_type": "markdown",
      "source": [
        "# Deep AutoEncoder with only layerwise pretraining"
      ],
      "metadata": {
        "id": "HNBIe4TEZehX"
      }
    },
    {
      "cell_type": "markdown",
      "source": [
        "https://www.kaggle.com/code/baogorek/autoencoder-with-greedy-layer-wise-pretraining/notebook\n",
        "\n",
        "https://machinelearningmastery.com/greedy-layer-wise-pretraining-tutorial/"
      ],
      "metadata": {
        "id": "FilsVonovOQ_"
      }
    },
    {
      "cell_type": "code",
      "source": [
        "class DeepAutoEncoder(nn.Module):\n",
        "  def __init__(self, input_dim, hidden_layers):\n",
        "    super().__init__()\n",
        "\n",
        "    self.autoencoders = [Autoencoder(input_dim, hidden_layers[0])]\n",
        "    hidden_layers.pop()\n",
        "    for elem in hidden_layers:\n",
        "      input_dim = elem\n",
        "      self.autoencoders.append(Autoencoder(input_dim, elem, False))\n",
        "      \n",
        "\n",
        "    self.model = nn.ModuleList(self.autoencoders)\n",
        "  \n",
        "  def encode(self, x):\n",
        "    for ae in self.model:\n",
        "      x = ae.encode(x)\n",
        "    return x\n",
        "\n",
        "  def decode(self, x):\n",
        "    # reverse list of models and decode\n",
        "    for ae in self.model[::-1]:\n",
        "      x = ae.decode(x)\n",
        "    return x\n",
        "\n",
        "  def forward(self, x):\n",
        "    x = self.encode(x)\n",
        "    x = self.decode(x)\n",
        "    return x\n",
        "\n"
      ],
      "metadata": {
        "id": "HC0i3hhxw6kC"
      },
      "execution_count": 52,
      "outputs": []
    },
    {
      "cell_type": "code",
      "source": [
        "hidden_layers = [128]\n",
        "deep_ae = DeepAutoEncoder(X_train.shape[1], hidden_layers)\n",
        "count_parameters(deep_ae)"
      ],
      "metadata": {
        "colab": {
          "base_uri": "https://localhost:8080/"
        },
        "id": "elh2MzN4ItYT",
        "outputId": "03b1330a-17b9-4ab6-bd54-c21cf035ef4e"
      },
      "execution_count": 53,
      "outputs": [
        {
          "output_type": "stream",
          "name": "stdout",
          "text": [
            "The model has 201616 free params\n"
          ]
        }
      ]
    },
    {
      "cell_type": "code",
      "source": [
        "data_in = X_train\n",
        "for ae in deep_ae.model:\n",
        "  fit(epochs, ae, criterion, data_in, optimizer)\n",
        "\n",
        "  # create latent rappresentation of data\n",
        "  # the new encoded data_in will be passed to the data loader in the fit method\n",
        "  with torch.no_grad():\n",
        "    data_in = ae.encode(data_in)\n"
      ],
      "metadata": {
        "id": "VHtxkz3Obfw_",
        "colab": {
          "base_uri": "https://localhost:8080/",
          "height": 415
        },
        "outputId": "a5ac3201-09d2-40f1-be90-f50bf940f3f2"
      },
      "execution_count": 54,
      "outputs": [
        {
          "output_type": "stream",
          "name": "stdout",
          "text": [
            "Epoch: 1 \tTraining Loss: 4.640416089892387\n",
            "Epoch: 2 \tTraining Loss: 4.640401929914951\n"
          ]
        },
        {
          "output_type": "error",
          "ename": "KeyboardInterrupt",
          "evalue": "ignored",
          "traceback": [
            "\u001b[0;31m---------------------------------------------------------------------------\u001b[0m",
            "\u001b[0;31mKeyboardInterrupt\u001b[0m                         Traceback (most recent call last)",
            "\u001b[0;32m<ipython-input-54-93163ec90ce1>\u001b[0m in \u001b[0;36m<cell line: 2>\u001b[0;34m()\u001b[0m\n\u001b[1;32m      1\u001b[0m \u001b[0mdata_in\u001b[0m \u001b[0;34m=\u001b[0m \u001b[0mX_train\u001b[0m\u001b[0;34m\u001b[0m\u001b[0;34m\u001b[0m\u001b[0m\n\u001b[1;32m      2\u001b[0m \u001b[0;32mfor\u001b[0m \u001b[0mae\u001b[0m \u001b[0;32min\u001b[0m \u001b[0mdeep_ae\u001b[0m\u001b[0;34m.\u001b[0m\u001b[0mmodel\u001b[0m\u001b[0;34m:\u001b[0m\u001b[0;34m\u001b[0m\u001b[0;34m\u001b[0m\u001b[0m\n\u001b[0;32m----> 3\u001b[0;31m   \u001b[0mfit\u001b[0m\u001b[0;34m(\u001b[0m\u001b[0mepochs\u001b[0m\u001b[0;34m,\u001b[0m \u001b[0mae\u001b[0m\u001b[0;34m,\u001b[0m \u001b[0mcriterion\u001b[0m\u001b[0;34m,\u001b[0m \u001b[0mdata_in\u001b[0m\u001b[0;34m,\u001b[0m \u001b[0moptimizer\u001b[0m\u001b[0;34m)\u001b[0m\u001b[0;34m\u001b[0m\u001b[0;34m\u001b[0m\u001b[0m\n\u001b[0m\u001b[1;32m      4\u001b[0m \u001b[0;34m\u001b[0m\u001b[0m\n\u001b[1;32m      5\u001b[0m   \u001b[0;31m# create latent rappresentation of data\u001b[0m\u001b[0;34m\u001b[0m\u001b[0;34m\u001b[0m\u001b[0m\n",
            "\u001b[0;32m<ipython-input-9-de187265d9ff>\u001b[0m in \u001b[0;36mfit\u001b[0;34m(epochs, model, criterion, X_train, optimizer)\u001b[0m\n\u001b[1;32m     21\u001b[0m \u001b[0;34m\u001b[0m\u001b[0m\n\u001b[1;32m     22\u001b[0m       \u001b[0;31m# optimizer step and backward pass\u001b[0m\u001b[0;34m\u001b[0m\u001b[0;34m\u001b[0m\u001b[0m\n\u001b[0;32m---> 23\u001b[0;31m       \u001b[0mloss\u001b[0m\u001b[0;34m.\u001b[0m\u001b[0mbackward\u001b[0m\u001b[0;34m(\u001b[0m\u001b[0;34m)\u001b[0m\u001b[0;34m\u001b[0m\u001b[0;34m\u001b[0m\u001b[0m\n\u001b[0m\u001b[1;32m     24\u001b[0m       \u001b[0moptimizer\u001b[0m\u001b[0;34m.\u001b[0m\u001b[0mstep\u001b[0m\u001b[0;34m(\u001b[0m\u001b[0;34m)\u001b[0m\u001b[0;34m\u001b[0m\u001b[0;34m\u001b[0m\u001b[0m\n\u001b[1;32m     25\u001b[0m \u001b[0;34m\u001b[0m\u001b[0m\n",
            "\u001b[0;32m/usr/local/lib/python3.10/dist-packages/torch/_tensor.py\u001b[0m in \u001b[0;36mbackward\u001b[0;34m(self, gradient, retain_graph, create_graph, inputs)\u001b[0m\n\u001b[1;32m    485\u001b[0m                 \u001b[0minputs\u001b[0m\u001b[0;34m=\u001b[0m\u001b[0minputs\u001b[0m\u001b[0;34m,\u001b[0m\u001b[0;34m\u001b[0m\u001b[0;34m\u001b[0m\u001b[0m\n\u001b[1;32m    486\u001b[0m             )\n\u001b[0;32m--> 487\u001b[0;31m         torch.autograd.backward(\n\u001b[0m\u001b[1;32m    488\u001b[0m             \u001b[0mself\u001b[0m\u001b[0;34m,\u001b[0m \u001b[0mgradient\u001b[0m\u001b[0;34m,\u001b[0m \u001b[0mretain_graph\u001b[0m\u001b[0;34m,\u001b[0m \u001b[0mcreate_graph\u001b[0m\u001b[0;34m,\u001b[0m \u001b[0minputs\u001b[0m\u001b[0;34m=\u001b[0m\u001b[0minputs\u001b[0m\u001b[0;34m\u001b[0m\u001b[0;34m\u001b[0m\u001b[0m\n\u001b[1;32m    489\u001b[0m         )\n",
            "\u001b[0;32m/usr/local/lib/python3.10/dist-packages/torch/autograd/__init__.py\u001b[0m in \u001b[0;36mbackward\u001b[0;34m(tensors, grad_tensors, retain_graph, create_graph, grad_variables, inputs)\u001b[0m\n\u001b[1;32m    198\u001b[0m     \u001b[0;31m# some Python versions print out the first line of a multi-line function\u001b[0m\u001b[0;34m\u001b[0m\u001b[0;34m\u001b[0m\u001b[0m\n\u001b[1;32m    199\u001b[0m     \u001b[0;31m# calls in the traceback and some print out the last line\u001b[0m\u001b[0;34m\u001b[0m\u001b[0;34m\u001b[0m\u001b[0m\n\u001b[0;32m--> 200\u001b[0;31m     Variable._execution_engine.run_backward(  # Calls into the C++ engine to run the backward pass\n\u001b[0m\u001b[1;32m    201\u001b[0m         \u001b[0mtensors\u001b[0m\u001b[0;34m,\u001b[0m \u001b[0mgrad_tensors_\u001b[0m\u001b[0;34m,\u001b[0m \u001b[0mretain_graph\u001b[0m\u001b[0;34m,\u001b[0m \u001b[0mcreate_graph\u001b[0m\u001b[0;34m,\u001b[0m \u001b[0minputs\u001b[0m\u001b[0;34m,\u001b[0m\u001b[0;34m\u001b[0m\u001b[0;34m\u001b[0m\u001b[0m\n\u001b[1;32m    202\u001b[0m         allow_unreachable=True, accumulate_grad=True)  # Calls into the C++ engine to run the backward pass\n",
            "\u001b[0;31mKeyboardInterrupt\u001b[0m: "
          ]
        }
      ]
    },
    {
      "cell_type": "markdown",
      "source": [
        "# Deep AutoEncoder with Fine Tuning"
      ],
      "metadata": {
        "id": "BDDTlJ9sQNNE"
      }
    },
    {
      "cell_type": "code",
      "source": [
        "history = fit(epochs, deep_ae, criterion, X_train, optimizer)"
      ],
      "metadata": {
        "id": "ThjoV8XIQZbR"
      },
      "execution_count": null,
      "outputs": []
    },
    {
      "cell_type": "code",
      "source": [
        "loss, noisy_data, denoised = evaluate(deep_ae, X_test, criterion)\n",
        "print(\"Deep AutoEncoder loss:\", loss.item())"
      ],
      "metadata": {
        "id": "5NDZ6LJsRa3i"
      },
      "execution_count": null,
      "outputs": []
    },
    {
      "cell_type": "code",
      "source": [
        "check_results(noisy_data, denoised, X_test, y_test)"
      ],
      "metadata": {
        "id": "8NvxgKnmRfrM"
      },
      "execution_count": null,
      "outputs": []
    }
  ]
}