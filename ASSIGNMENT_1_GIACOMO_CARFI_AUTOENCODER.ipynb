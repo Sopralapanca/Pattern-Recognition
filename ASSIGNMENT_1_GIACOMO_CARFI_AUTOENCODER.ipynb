{
  "nbformat": 4,
  "nbformat_minor": 0,
  "metadata": {
    "colab": {
      "provenance": [],
      "authorship_tag": "ABX9TyPjEpP3Zj9Z6VZ6qF0BZx6L",
      "include_colab_link": true
    },
    "kernelspec": {
      "name": "python3",
      "display_name": "Python 3"
    },
    "language_info": {
      "name": "python"
    }
  },
  "cells": [
    {
      "cell_type": "markdown",
      "metadata": {
        "id": "view-in-github",
        "colab_type": "text"
      },
      "source": [
        "<a href=\"https://colab.research.google.com/github/Sopralapanca/Pattern-Recognition/blob/main/ASSIGNMENT_1_GIACOMO_CARFI_AUTOENCODER.ipynb\" target=\"_parent\"><img src=\"https://colab.research.google.com/assets/colab-badge.svg\" alt=\"Open In Colab\"/></a>"
      ]
    },
    {
      "cell_type": "markdown",
      "source": [
        "Train a denoising or a contractive autoencoder on the MNIST dataset: try out different architectures for the autoencoder, including a single layer autoencoder, a deep autoencoder with only layerwise pretraining and a deep autoencoder with fine tuning. It is up to you to decide how many neurons in each layer and how many layers you want in the deep autoencoder. Show an accuracy comparison between the different configurations.\n",
        "\n",
        "Given the encoding z1 of image x1 (obtained in the hidden layer of the autoencoder) and z2 of image x2, a latent space interpolation is an encoding that is obtained with the linear interpolation z* = a*z1 + (1 - a)*z2, with a in [0, 1]. Perform a latent space interpolation (with some choices of a) using:\n",
        "- z1 and z2 from the same class\n",
        "- z1 and z2 from different classes\n",
        "\n",
        "Once you have the interpolated encoding z* visualize its image reconstructions (obtained through the decoder) and discuss the results."
      ],
      "metadata": {
        "id": "jepyCdYojZY2"
      }
    },
    {
      "cell_type": "markdown",
      "source": [
        "# Loading the dataset"
      ],
      "metadata": {
        "id": "t_ZEYBhDjcSm"
      }
    },
    {
      "cell_type": "markdown",
      "source": [
        "https://github.com/udacity/deep-learning-v2-pytorch/blob/master/autoencoder/denoising-autoencoder/Denoising_Autoencoder_Solution.ipynb\n",
        "\n",
        "https://github.com/Andrew-Wyn/ISPR_HWS/blob/master/MidTerm3_1/ISPR_HW3.ipynb"
      ],
      "metadata": {
        "id": "lpgdVTgCqyur"
      }
    },
    {
      "cell_type": "code",
      "execution_count": 1,
      "metadata": {
        "id": "iDQi2T-yhr5e"
      },
      "outputs": [],
      "source": [
        "%%capture\n",
        "import torch\n",
        "import torchvision\n",
        "from torchvision import datasets\n",
        "import torchvision.transforms as transforms\n",
        "\n",
        "# convert data to torch.FloatTensor\n",
        "transform = transforms.ToTensor()\n",
        "\n",
        "# load the training and test datasets\n",
        "train_data = datasets.MNIST(root='~/.pytorch/MNIST_data/', train=True,\n",
        "                                   download=True, transform=transform)\n",
        "test_data = datasets.MNIST(root='~/.pytorch/MNIST_data/', train=False,\n",
        "                                  download=True, transform=transform)"
      ]
    },
    {
      "cell_type": "code",
      "source": [
        "def split_data_and_label(dataset):\n",
        "  X = dataset.data.float()\n",
        "  y = dataset.targets\n",
        "  return X,y"
      ],
      "metadata": {
        "id": "LUvRFfqJDG9y"
      },
      "execution_count": 2,
      "outputs": []
    },
    {
      "cell_type": "code",
      "source": [
        "# visualize the data\n",
        "import matplotlib.pyplot as plt\n",
        "import numpy as np\n",
        "\n",
        "def plot_example(X, y):\n",
        "    \"\"\"Plot the first 5 images and their labels in a row.\"\"\"\n",
        "    for i, (img, y) in enumerate(zip(X[:5].reshape(5, 28, 28), y[:5])):\n",
        "        plt.subplot(151 + i)\n",
        "        plt.imshow(img, cmap='gray', interpolation='nearest')\n",
        "        plt.xticks([])\n",
        "        plt.yticks([])\n",
        "        plt.title(y.item())\n",
        "\n",
        "X_train, y_train = split_data_and_label(train_data)\n",
        "X_test, y_test = split_data_and_label(test_data)\n",
        "\n",
        "plot_example(X_train, y_train)"
      ],
      "metadata": {
        "colab": {
          "base_uri": "https://localhost:8080/",
          "height": 144
        },
        "id": "HwsGCGZ4lWEa",
        "outputId": "3fa7b342-1bc3-48c0-abc1-0b808fa4b370"
      },
      "execution_count": 3,
      "outputs": [
        {
          "output_type": "display_data",
          "data": {
            "text/plain": [
              "<Figure size 640x480 with 5 Axes>"
            ],
            "image/png": "[encoded data removed]"
          },
          "metadata": {}
        }
      ]
    },
    {
      "cell_type": "code",
      "source": [
        "# use gpu if available\n",
        "device = torch.device(\"cuda\" if torch.cuda.is_available() else \"cpu\")\n",
        "print(f\"The device available: {device}\")"
      ],
      "metadata": {
        "id": "gyXMC5wjSqEP",
        "outputId": "1a5ac468-0a24-4840-f252-7a417da670bb",
        "colab": {
          "base_uri": "https://localhost:8080/"
        }
      },
      "execution_count": 4,
      "outputs": [
        {
          "output_type": "stream",
          "name": "stdout",
          "text": [
            "The device available: cpu\n"
          ]
        }
      ]
    },
    {
      "cell_type": "markdown",
      "source": [
        "# Preparing the dataset"
      ],
      "metadata": {
        "id": "voSfCM16vUzr"
      }
    },
    {
      "cell_type": "code",
      "source": [
        "from sklearn.preprocessing import MinMaxScaler\n",
        "minmaxscaler = MinMaxScaler()\n",
        "\n",
        "# resize the dataset - flatten\n",
        "X_train = X_train.view(-1, 784)\n",
        "X_test = X_test.view(-1, 784)\n",
        "\n",
        "# scaling the dataset\n",
        "X_train = torch.Tensor(minmaxscaler.fit_transform(X_train))\n",
        "X_test = torch.Tensor(minmaxscaler.transform(X_test))\n",
        "print(\"Max:\", torch.max(X_train))\n",
        "print(\"Min:\", torch.min(X_train))"
      ],
      "metadata": {
        "id": "nJSQYGnrvXt9",
        "colab": {
          "base_uri": "https://localhost:8080/"
        },
        "outputId": "6298d083-54a8-4686-ad5a-2323768b0243"
      },
      "execution_count": 5,
      "outputs": [
        {
          "output_type": "stream",
          "name": "stdout",
          "text": [
            "Max: tensor(1.)\n",
            "Min: tensor(0.)\n"
          ]
        }
      ]
    },
    {
      "cell_type": "markdown",
      "source": [
        "Ho scelto di implementare un deoising autoncoder quindi aggiungo noise al dataset"
      ],
      "metadata": {
        "id": "dIjRDENwOnXm"
      }
    },
    {
      "cell_type": "code",
      "source": [
        "# add noise to the images\n",
        "def add_noise(X, mean=0, std=1):\n",
        "  noisy_imgs = X + torch.randn(X.shape)*std + mean \n",
        "  # Clip the images to be between 0 and 1\n",
        "  noisy_imgs = np.clip(noisy_imgs, 0., 1.)\n",
        "  return noisy_imgs"
      ],
      "metadata": {
        "id": "zrjbgzNBKKo0"
      },
      "execution_count": 6,
      "outputs": []
    },
    {
      "cell_type": "code",
      "source": [
        "noise_std = 0.5\n",
        "X_train_noisy = add_noise(X_train, 0, noise_std)\n",
        "plot_example(X_train_noisy, y_train)"
      ],
      "metadata": {
        "colab": {
          "base_uri": "https://localhost:8080/",
          "height": 144
        },
        "id": "ApVl_yJON8vX",
        "outputId": "0cc4916c-abff-451d-eec2-4766ba924dfc"
      },
      "execution_count": 7,
      "outputs": [
        {
          "output_type": "display_data",
          "data": {
            "text/plain": [
              "<Figure size 640x480 with 5 Axes>"
            ],
            "image/png": "[encoded data removed]"
          },
          "metadata": {}
        }
      ]
    },
    {
      "cell_type": "code",
      "source": [
        "# prepare data loaders\n",
        "train_loader = torch.utils.data.DataLoader(X_train, batch_size=20, shuffle=True)\n",
        "test_loader = torch.utils.data.DataLoader(X_test, batch_size=20)"
      ],
      "metadata": {
        "id": "J173pr-WFwoy"
      },
      "execution_count": 8,
      "outputs": []
    },
    {
      "cell_type": "markdown",
      "source": [
        "# Global parameters for all the models"
      ],
      "metadata": {
        "id": "M_2_idj4SQ8G"
      }
    },
    {
      "cell_type": "code",
      "source": [
        "import torch.nn as nn\n",
        "import torch.nn.functional as F\n",
        "\n",
        "encoding_dim = 32\n",
        "loss = nn.MSELoss()\n",
        "epochs=20"
      ],
      "metadata": {
        "id": "ynfL7ObRSUwn"
      },
      "execution_count": 9,
      "outputs": []
    },
    {
      "cell_type": "code",
      "source": [
        "def fit(epochs, model, loss, train_loader, optimizer):\n",
        "  history = []\n",
        "\n",
        "  for epoch in range(1, epochs+1):\n",
        "    train_loss=0.0\n",
        "\n",
        "    for images in train_loader:\n",
        "      # reset gradient\n",
        "      optimizer.zero_grad()\n",
        "\n",
        "      # add noise\n",
        "      noisy_images = add_noise(images, 0, noise_std)\n",
        "\n",
        "      #forward pass\n",
        "      output = model(noisy_images)\n",
        "      error = loss(output, images)\n",
        "\n",
        "      # optimizer step and backward pass\n",
        "      error.backward()\n",
        "      optimizer.step()\n",
        "\n",
        "      train_loss += error.item()*images.size(0)\n",
        "    \n",
        "    # print avg training statistics \n",
        "    train_loss = train_loss/len(train_loader)\n",
        "    print(f'Epoch: {epoch} \\tTraining Loss: {train_loss}')\n",
        "    history.append(train_loss)\n",
        "    \n",
        "  \n",
        "  return history"
      ],
      "metadata": {
        "id": "W3V98mlXTYjF"
      },
      "execution_count": 10,
      "outputs": []
    },
    {
      "cell_type": "code",
      "source": [
        "def evaluate(model, data, loss):\n",
        "  X_test_noisy = add_noise(data, 0, noise_std)\n",
        "  with torch.no_grad():\n",
        "    output = model(X_test_noisy)\n",
        "    error = loss(output, data) \n",
        "\n",
        "  return error, X_test_noisy, output\n"
      ],
      "metadata": {
        "id": "gmhEg8FhdrbI"
      },
      "execution_count": 20,
      "outputs": []
    },
    {
      "cell_type": "code",
      "source": [
        "def check_results(input, denoised, original, label):\n",
        "  # show images and their reconstruction\n",
        "  rows = 3\n",
        "  columns = 5\n",
        "\n",
        "  fig, axes = plt.subplots(rows, columns,sharey = True,figsize=(30, 6))\n",
        "  for i in range(rows):\n",
        "      for j in range(columns):\n",
        "          if i==0:\n",
        "            axes[i, j].imshow(input[j].reshape(28, 28), cmap='gray')\n",
        "            axes[i, j].set_title(label[j].item()) \n",
        "          if i==1:\n",
        "            axes[i, j].imshow(denoised[j].reshape(28, 28), cmap='gray')\n",
        "          if i==2:\n",
        "            axes[i, j].imshow(original[j].reshape(28, 28), cmap='gray')\n",
        "\n",
        "          axes[i, j].tick_params(left = False, right = False , labelleft = False,\n",
        "                  labelbottom = False, bottom = False)\n",
        "          \n",
        "  axes[0, 0].set_ylabel(\"INPUT\", fontsize=12)        \n",
        "  axes[1, 0].set_ylabel(\"DENOISED\", fontsize=12)\n",
        "  axes[2, 0].set_ylabel(\"ORIGINAL\", fontsize=12)\n",
        "  \n",
        "  plt.show()"
      ],
      "metadata": {
        "id": "MbcTpGsdbhBH"
      },
      "execution_count": 13,
      "outputs": []
    },
    {
      "cell_type": "markdown",
      "source": [
        "# Single Layer Autoencoder"
      ],
      "metadata": {
        "id": "IEyhx-YWOKl0"
      }
    },
    {
      "cell_type": "code",
      "source": [
        "class Autoencoder(nn.Module):\n",
        "  def __init__(self, input_dim, enc_dim):\n",
        "    super(Autoencoder, self).__init__()\n",
        "    # encoder made of one linear layer that maps a vector of size input dim into a vector of size enc_dim\n",
        "    self.dense1 = nn.Linear(input_dim, enc_dim)\n",
        "\n",
        "    # the decoder will reconstruct the image in the original space\n",
        "    self.dense2 = nn.Linear(enc_dim, input_dim)\n",
        "\n",
        "  def forward(self, x):\n",
        "    # encoding\n",
        "    x = F.relu(self.dense1(x))\n",
        "\n",
        "    # decoding\n",
        "    x = F.sigmoid(self.dense2(x))\n",
        "    return x"
      ],
      "metadata": {
        "id": "GkQJdGkUOM7O"
      },
      "execution_count": 11,
      "outputs": []
    },
    {
      "cell_type": "code",
      "source": [
        "model = Autoencoder(X_train.shape[1], encoding_dim)\n",
        "optimizer = torch.optim.Adam(model.parameters(), lr=0.001)\n",
        "\n",
        "history = fit(epochs, model, loss, train_loader, optimizer)"
      ],
      "metadata": {
        "colab": {
          "base_uri": "https://localhost:8080/"
        },
        "id": "r_V7IQbESJsF",
        "outputId": "2364be57-c890-43a8-9455-c581e81021b7"
      },
      "execution_count": 12,
      "outputs": [
        {
          "output_type": "stream",
          "name": "stdout",
          "text": [
            "Epoch: 1 \tTraining Loss: 0.8554347374166051\n",
            "Epoch: 2 \tTraining Loss: 0.6120948992669583\n",
            "Epoch: 3 \tTraining Loss: 0.6003021117299795\n",
            "Epoch: 4 \tTraining Loss: 0.5956706219290694\n",
            "Epoch: 5 \tTraining Loss: 0.5913766312475006\n",
            "Epoch: 6 \tTraining Loss: 0.5891616351281603\n",
            "Epoch: 7 \tTraining Loss: 0.5862226094429691\n",
            "Epoch: 8 \tTraining Loss: 0.5833825905496876\n",
            "Epoch: 9 \tTraining Loss: 0.5803207745278876\n",
            "Epoch: 10 \tTraining Loss: 0.5781296139458815\n",
            "Epoch: 11 \tTraining Loss: 0.5761779162287712\n",
            "Epoch: 12 \tTraining Loss: 0.5742521080871423\n",
            "Epoch: 13 \tTraining Loss: 0.5727602570628126\n",
            "Epoch: 14 \tTraining Loss: 0.5716045864423116\n",
            "Epoch: 15 \tTraining Loss: 0.5702689740930994\n",
            "Epoch: 16 \tTraining Loss: 0.5700072639187177\n",
            "Epoch: 17 \tTraining Loss: 0.5689896775782108\n",
            "Epoch: 18 \tTraining Loss: 0.5677186963458856\n",
            "Epoch: 19 \tTraining Loss: 0.5676578700914979\n",
            "Epoch: 20 \tTraining Loss: 0.5674145645275712\n"
          ]
        }
      ]
    },
    {
      "cell_type": "code",
      "source": [
        "error, noisy, denoised = evaluate(model, X_test, loss)"
      ],
      "metadata": {
        "id": "fhvWASEgfzJo"
      },
      "execution_count": 21,
      "outputs": []
    },
    {
      "cell_type": "code",
      "source": [
        "check_results(noisy, denoised, X_test, y_test)"
      ],
      "metadata": {
        "colab": {
          "base_uri": "https://localhost:8080/",
          "height": 256
        },
        "id": "zE69VIH3gu9t",
        "outputId": "2b6d38f2-a758-445a-a779-491eae909ed9"
      },
      "execution_count": 22,
      "outputs": [
        {
          "output_type": "display_data",
          "data": {
            "text/plain": [
              "<Figure size 3000x600 with 15 Axes>"
            ],
            "image/png": "[encoded data removed]"
          },
          "metadata": {}
        }
      ]
    }
  ]
}