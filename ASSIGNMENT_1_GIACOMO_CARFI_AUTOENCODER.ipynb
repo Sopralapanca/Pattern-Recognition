{
  "nbformat": 4,
  "nbformat_minor": 0,
  "metadata": {
    "colab": {
      "provenance": [],
      "authorship_tag": "ABX9TyOeUKxig+7Zhds07K11zjnY",
      "include_colab_link": true
    },
    "kernelspec": {
      "name": "python3",
      "display_name": "Python 3"
    },
    "language_info": {
      "name": "python"
    }
  },
  "cells": [
    {
      "cell_type": "markdown",
      "metadata": {
        "id": "view-in-github",
        "colab_type": "text"
      },
      "source": [
        "<a href=\"https://colab.research.google.com/github/Sopralapanca/Pattern-Recognition/blob/main/ASSIGNMENT_1_GIACOMO_CARFI_AUTOENCODER.ipynb\" target=\"_parent\"><img src=\"https://colab.research.google.com/assets/colab-badge.svg\" alt=\"Open In Colab\"/></a>"
      ]
    },
    {
      "cell_type": "markdown",
      "source": [
        "Train a denoising or a contractive autoencoder on the MNIST dataset: try out different architectures for the autoencoder, including a single layer autoencoder, a deep autoencoder with only layerwise pretraining and a deep autoencoder with fine tuning. It is up to you to decide how many neurons in each layer and how many layers you want in the deep autoencoder. Show an accuracy comparison between the different configurations.\n",
        "\n",
        "Given the encoding z1 of image x1 (obtained in the hidden layer of the autoencoder) and z2 of image x2, a latent space interpolation is an encoding that is obtained with the linear interpolation z* = a*z1 + (1 - a)*z2, with a in [0, 1]. Perform a latent space interpolation (with some choices of a) using:\n",
        "- z1 and z2 from the same class\n",
        "- z1 and z2 from different classes\n",
        "\n",
        "Once you have the interpolated encoding z* visualize its image reconstructions (obtained through the decoder) and discuss the results."
      ],
      "metadata": {
        "id": "jepyCdYojZY2"
      }
    },
    {
      "cell_type": "markdown",
      "source": [
        "# Loading the dataset"
      ],
      "metadata": {
        "id": "t_ZEYBhDjcSm"
      }
    },
    {
      "cell_type": "markdown",
      "source": [
        "https://github.com/udacity/deep-learning-v2-pytorch/blob/master/autoencoder/denoising-autoencoder/Denoising_Autoencoder_Solution.ipynb\n",
        "\n",
        "https://github.com/Andrew-Wyn/ISPR_HWS/blob/master/MidTerm3_1/ISPR_HW3.ipynb"
      ],
      "metadata": {
        "id": "lpgdVTgCqyur"
      }
    },
    {
      "cell_type": "code",
      "execution_count": 1,
      "metadata": {
        "id": "iDQi2T-yhr5e"
      },
      "outputs": [],
      "source": [
        "%%capture\n",
        "import torch\n",
        "import torchvision\n",
        "from torchvision import datasets\n",
        "import torchvision.transforms as transforms\n",
        "\n",
        "# convert data to torch.FloatTensor\n",
        "transform = transforms.ToTensor()\n",
        "\n",
        "# load the training and test datasets\n",
        "train_data = datasets.MNIST(root='~/.pytorch/MNIST_data/', train=True,\n",
        "                                   download=True, transform=transform)\n",
        "test_data = datasets.MNIST(root='~/.pytorch/MNIST_data/', train=False,\n",
        "                                  download=True, transform=transform)"
      ]
    },
    {
      "cell_type": "code",
      "source": [
        "def split_data_and_label(dataset):\n",
        "  X = dataset.data.float()\n",
        "  y = dataset.targets\n",
        "  return X,y"
      ],
      "metadata": {
        "id": "LUvRFfqJDG9y"
      },
      "execution_count": 2,
      "outputs": []
    },
    {
      "cell_type": "code",
      "source": [
        "# visualize the data\n",
        "import matplotlib.pyplot as plt\n",
        "import numpy as np\n",
        "\n",
        "def plot_example(X, y):\n",
        "    \"\"\"Plot the first 5 images and their labels in a row.\"\"\"\n",
        "    for i, (img, y) in enumerate(zip(X[:5].reshape(5, 28, 28), y[:5])):\n",
        "        plt.subplot(151 + i)\n",
        "        plt.imshow(img, cmap='gray', interpolation='nearest')\n",
        "        plt.xticks([])\n",
        "        plt.yticks([])\n",
        "        plt.title(y.item())\n",
        "\n",
        "X_train, y_train = split_data_and_label(train_data)\n",
        "X_test, y_test = split_data_and_label(test_data)\n",
        "\n",
        "plot_example(X_train, y_train)"
      ],
      "metadata": {
        "colab": {
          "base_uri": "https://localhost:8080/",
          "height": 144
        },
        "id": "HwsGCGZ4lWEa",
        "outputId": "95ab963b-84b7-423e-d971-c2c16a7cad76"
      },
      "execution_count": 3,
      "outputs": [
        {
          "output_type": "display_data",
          "data": {
            "text/plain": [
              "<Figure size 640x480 with 5 Axes>"
            ],
            "image/png": "[encoded data removed]"
          },
          "metadata": {}
        }
      ]
    },
    {
      "cell_type": "code",
      "source": [
        "# use gpu if available\n",
        "device = torch.device(\"cuda\" if torch.cuda.is_available() else \"cpu\")\n",
        "print(f\"The device available: {device}\")"
      ],
      "metadata": {
        "colab": {
          "base_uri": "https://localhost:8080/"
        },
        "id": "gyXMC5wjSqEP",
        "outputId": "66b2a80a-a258-4d73-9546-a42d2670bbe9"
      },
      "execution_count": 12,
      "outputs": [
        {
          "output_type": "stream",
          "name": "stdout",
          "text": [
            "The device available: cpu\n"
          ]
        }
      ]
    },
    {
      "cell_type": "markdown",
      "source": [
        "# Preparing the dataset"
      ],
      "metadata": {
        "id": "voSfCM16vUzr"
      }
    },
    {
      "cell_type": "code",
      "source": [
        "# add noise to the images\n",
        "def add_noise(X, mean=0, std=1):\n",
        "  return X + torch.randn(X.shape)*std + mean "
      ],
      "metadata": {
        "id": "zrjbgzNBKKo0"
      },
      "execution_count": 4,
      "outputs": []
    },
    {
      "cell_type": "code",
      "source": [
        "from sklearn.preprocessing import MinMaxScaler\n",
        "minmaxscaler = MinMaxScaler()\n",
        "\n",
        "# resize the dataset\n",
        "X_train = X_train.view(-1, 784)\n",
        "X_test = X_test.view(-1, 784)\n",
        "\n",
        "# scaling the dataset\n",
        "X_train = torch.Tensor(minmaxscaler.fit_transform(X_train))\n",
        "X_test = torch.Tensor(minmaxscaler.transform(X_test))\n",
        "print(\"Max:\", torch.max(X_train))\n",
        "print(\"Min:\", torch.min(X_train))"
      ],
      "metadata": {
        "id": "nJSQYGnrvXt9",
        "colab": {
          "base_uri": "https://localhost:8080/"
        },
        "outputId": "90e48887-27ee-4103-c558-8ae65d852630"
      },
      "execution_count": 7,
      "outputs": [
        {
          "output_type": "stream",
          "name": "stdout",
          "text": [
            "Max: tensor(1.)\n",
            "Min: tensor(0.)\n"
          ]
        }
      ]
    },
    {
      "cell_type": "code",
      "source": [
        "X_train_noisy = add_noise(X_train, 0, 0.15)\n",
        "plot_example(X_train_noisy, y_train)"
      ],
      "metadata": {
        "colab": {
          "base_uri": "https://localhost:8080/",
          "height": 144
        },
        "id": "ApVl_yJON8vX",
        "outputId": "21caaaae-4b98-4114-c2f6-4f7cdc1e6834"
      },
      "execution_count": 11,
      "outputs": [
        {
          "output_type": "display_data",
          "data": {
            "text/plain": [
              "<Figure size 640x480 with 5 Axes>"
            ],
            "image/png": "[encoded data removed]"
          },
          "metadata": {}
        }
      ]
    },
    {
      "cell_type": "code",
      "source": [
        "# prepare data loaders\n",
        "train_loader = torch.utils.data.DataLoader(X_train, batch_size=20, shuffle=True)\n",
        "test_loader = torch.utils.data.DataLoader(X_test, batch_size=20)"
      ],
      "metadata": {
        "id": "J173pr-WFwoy"
      },
      "execution_count": null,
      "outputs": []
    }
  ]
}