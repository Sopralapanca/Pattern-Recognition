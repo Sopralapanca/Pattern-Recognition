{
  "nbformat": 4,
  "nbformat_minor": 0,
  "metadata": {
    "colab": {
      "provenance": [],
      "authorship_tag": "ABX9TyMvxFApHaK4+stTvprO3odX",
      "include_colab_link": true
    },
    "kernelspec": {
      "name": "python3",
      "display_name": "Python 3"
    },
    "language_info": {
      "name": "python"
    }
  },
  "cells": [
    {
      "cell_type": "markdown",
      "metadata": {
        "id": "view-in-github",
        "colab_type": "text"
      },
      "source": [
        "<a href=\"https://colab.research.google.com/github/Sopralapanca/Pattern-Recognition/blob/main/ASSIGNMENT_1_GIACOMO_CARFI_AUTOENCODER.ipynb\" target=\"_parent\"><img src=\"https://colab.research.google.com/assets/colab-badge.svg\" alt=\"Open In Colab\"/></a>"
      ]
    },
    {
      "cell_type": "markdown",
      "source": [
        "Train a denoising or a contractive autoencoder on the MNIST dataset: try out different architectures for the autoencoder, including a single layer autoencoder, a deep autoencoder with only layerwise pretraining and a deep autoencoder with fine tuning. It is up to you to decide how many neurons in each layer and how many layers you want in the deep autoencoder. Show an accuracy comparison between the different configurations.\n",
        "\n",
        "Given the encoding z1 of image x1 (obtained in the hidden layer of the autoencoder) and z2 of image x2, a latent space interpolation is an encoding that is obtained with the linear interpolation z* = a*z1 + (1 - a)*z2, with a in [0, 1]. Perform a latent space interpolation (with some choices of a) using:\n",
        "- z1 and z2 from the same class\n",
        "- z1 and z2 from different classes\n",
        "\n",
        "Once you have the interpolated encoding z* visualize its image reconstructions (obtained through the decoder) and discuss the results."
      ],
      "metadata": {
        "id": "jepyCdYojZY2"
      }
    },
    {
      "cell_type": "markdown",
      "source": [
        "# Loading the dataset"
      ],
      "metadata": {
        "id": "t_ZEYBhDjcSm"
      }
    },
    {
      "cell_type": "markdown",
      "source": [
        "https://github.com/Andrew-Wyn/ISPR_HWS/blob/master/MidTerm3_1/ISPR_HW3.ipynb"
      ],
      "metadata": {
        "id": "lpgdVTgCqyur"
      }
    },
    {
      "cell_type": "code",
      "execution_count": 4,
      "metadata": {
        "id": "iDQi2T-yhr5e"
      },
      "outputs": [],
      "source": [
        "%%capture\n",
        "import torch\n",
        "import torchvision\n",
        "from torchvision import datasets\n",
        "import torchvision.transforms as transforms\n",
        "\n",
        "# convert data to torch.FloatTensor\n",
        "transform = transforms.ToTensor()\n",
        "\n",
        "# load the training and test datasets\n",
        "train_data = datasets.MNIST(root='~/.pytorch/MNIST_data/', train=True,\n",
        "                                   download=True, transform=transform)\n",
        "test_data = datasets.MNIST(root='~/.pytorch/MNIST_data/', train=False,\n",
        "                                  download=True, transform=transform)"
      ]
    },
    {
      "cell_type": "code",
      "source": [
        "def split_data_and_label(dataset):\n",
        "  X = dataset.data.float()\n",
        "  y = dataset.targets\n",
        "  return X,y"
      ],
      "metadata": {
        "id": "LUvRFfqJDG9y"
      },
      "execution_count": 5,
      "outputs": []
    },
    {
      "cell_type": "code",
      "source": [
        "# visualize the data\n",
        "import matplotlib.pyplot as plt\n",
        "import numpy as np\n",
        "\n",
        "def plot_example(X, y):\n",
        "    \"\"\"Plot the first 5 images and their labels in a row.\"\"\"\n",
        "    for i, (img, y) in enumerate(zip(X[:5].reshape(5, 28, 28), y[:5])):\n",
        "        plt.subplot(151 + i)\n",
        "        plt.imshow(img, cmap='gray', interpolation='nearest')\n",
        "        plt.xticks([])\n",
        "        plt.yticks([])\n",
        "        plt.title(y.item())\n",
        "\n",
        "X_train, y_train = split_data_and_label(train_data)\n",
        "X_test, y_test = split_data_and_label(test_data)\n",
        "\n",
        "plot_example(X_train, y_train)"
      ],
      "metadata": {
        "colab": {
          "base_uri": "https://localhost:8080/",
          "height": 144
        },
        "id": "HwsGCGZ4lWEa",
        "outputId": "44c02809-cde5-4b32-d757-4c0f3b57874b"
      },
      "execution_count": 6,
      "outputs": [
        {
          "output_type": "display_data",
          "data": {
            "text/plain": [
              "<Figure size 640x480 with 5 Axes>"
            ],
            "image/png": "[encoded data removed]"
          },
          "metadata": {}
        }
      ]
    },
    {
      "cell_type": "code",
      "source": [
        "# use gpu if available\n",
        "device = torch.device(\"cuda\" if torch.cuda.is_available() else \"cpu\")\n",
        "print(f\"Available device: {device}\")"
      ],
      "metadata": {
        "id": "gyXMC5wjSqEP",
        "outputId": "0ad13896-782d-470f-a837-e776298acbf0",
        "colab": {
          "base_uri": "https://localhost:8080/"
        }
      },
      "execution_count": null,
      "outputs": [
        {
          "output_type": "stream",
          "name": "stdout",
          "text": [
            "Available device: cpu\n"
          ]
        }
      ]
    },
    {
      "cell_type": "markdown",
      "source": [
        "# Preparing the dataset"
      ],
      "metadata": {
        "id": "voSfCM16vUzr"
      }
    },
    {
      "cell_type": "code",
      "source": [
        "from sklearn.preprocessing import MinMaxScaler\n",
        "minmaxscaler = MinMaxScaler()\n",
        "\n",
        "# resize the dataset - flatten\n",
        "X_train = X_train.view(-1, 784)\n",
        "X_test = X_test.view(-1, 784)\n",
        "\n",
        "# scaling the dataset\n",
        "X_train = torch.Tensor(minmaxscaler.fit_transform(X_train))\n",
        "X_test = torch.Tensor(minmaxscaler.transform(X_test))\n",
        "print(\"Max:\", torch.max(X_train).item())\n",
        "print(\"Min:\", torch.min(X_train).item())"
      ],
      "metadata": {
        "id": "nJSQYGnrvXt9",
        "colab": {
          "base_uri": "https://localhost:8080/"
        },
        "outputId": "2cc03800-b3e0-4998-ed84-da1c9571cf93"
      },
      "execution_count": 7,
      "outputs": [
        {
          "output_type": "stream",
          "name": "stdout",
          "text": [
            "Max: 1.0\n",
            "Min: 0.0\n"
          ]
        }
      ]
    },
    {
      "cell_type": "markdown",
      "source": [
        "The implementation chosen for this assignment is a **denoising autoencoder**, so below a method for adding noise to images is implemented"
      ],
      "metadata": {
        "id": "dIjRDENwOnXm"
      }
    },
    {
      "cell_type": "code",
      "source": [
        "# add noise to the images\n",
        "def add_noise(X, mean=0, std=1):\n",
        "  noisy_imgs = X + torch.randn(X.shape)*std + mean \n",
        "  # Clip the images to be between 0 and 1\n",
        "  noisy_imgs = np.clip(noisy_imgs, 0., 1.)\n",
        "  return noisy_imgs"
      ],
      "metadata": {
        "id": "zrjbgzNBKKo0"
      },
      "execution_count": 8,
      "outputs": []
    },
    {
      "cell_type": "code",
      "source": [
        "noise_std = 0.3\n",
        "X_train_noisy = add_noise(X_train[:5], 0, noise_std)\n",
        "plot_example(X_train_noisy, y_train)"
      ],
      "metadata": {
        "colab": {
          "base_uri": "https://localhost:8080/",
          "height": 144
        },
        "id": "ApVl_yJON8vX",
        "outputId": "37f88846-cbcd-4217-8bfe-bdb53ade0c87"
      },
      "execution_count": 9,
      "outputs": [
        {
          "output_type": "display_data",
          "data": {
            "text/plain": [
              "<Figure size 640x480 with 5 Axes>"
            ],
            "image/png": "[encoded data removed]"
          },
          "metadata": {}
        }
      ]
    },
    {
      "cell_type": "code",
      "source": [
        "# prepare data loaders\n",
        "train_loader = torch.utils.data.DataLoader(X_train, batch_size=20, shuffle=True)\n",
        "test_loader = torch.utils.data.DataLoader(X_test, batch_size=20)"
      ],
      "metadata": {
        "id": "J173pr-WFwoy"
      },
      "execution_count": 10,
      "outputs": []
    },
    {
      "cell_type": "markdown",
      "source": [
        "# Utils"
      ],
      "metadata": {
        "id": "M_2_idj4SQ8G"
      }
    },
    {
      "cell_type": "code",
      "source": [
        "import torch.nn as nn\n",
        "import torch.nn.functional as F\n",
        "\n",
        "encoding_dim = 32\n",
        "criterion = nn.MSELoss()\n",
        "epochs=20"
      ],
      "metadata": {
        "id": "ynfL7ObRSUwn"
      },
      "execution_count": 11,
      "outputs": []
    },
    {
      "cell_type": "code",
      "source": [
        "def fit(epochs, model, criterion, train_loader, optimizer):\n",
        "  history = []\n",
        "\n",
        "  for epoch in range(1, epochs+1):\n",
        "    train_loss=0.0\n",
        "\n",
        "    for images in train_loader:\n",
        "      # reset gradient\n",
        "      optimizer.zero_grad()\n",
        "\n",
        "      # add noise\n",
        "      noisy_images = add_noise(images, 0, noise_std)\n",
        "\n",
        "      #forward pass\n",
        "      output = model(noisy_images)\n",
        "      loss = criterion(output, images)\n",
        "\n",
        "      # optimizer step and backward pass\n",
        "      loss.backward()\n",
        "      optimizer.step()\n",
        "\n",
        "      train_loss += loss.item()*images.size(0)\n",
        "    \n",
        "    # print avg training statistics \n",
        "    train_loss = train_loss/len(train_loader)\n",
        "    print(f'Epoch: {epoch} \\tTraining Loss: {train_loss}')\n",
        "    history.append(train_loss)\n",
        "    \n",
        "  return history"
      ],
      "metadata": {
        "id": "W3V98mlXTYjF"
      },
      "execution_count": null,
      "outputs": []
    },
    {
      "cell_type": "code",
      "source": [
        "def evaluate(model, data, criterion):\n",
        "  X_test_noisy = add_noise(data, 0, noise_std)\n",
        "  with torch.no_grad():\n",
        "    output = model(X_test_noisy)\n",
        "    loss = criterion(output, data) \n",
        "\n",
        "  return loss, X_test_noisy, output"
      ],
      "metadata": {
        "id": "gmhEg8FhdrbI"
      },
      "execution_count": null,
      "outputs": []
    },
    {
      "cell_type": "code",
      "source": [
        "def check_results(input, denoised, original, label):\n",
        "  # show images and their reconstruction\n",
        "  rows = 3\n",
        "  columns = 5\n",
        "\n",
        "  fig, axes = plt.subplots(rows, columns,sharey = True,figsize=(30, 10))\n",
        "  for i in range(rows):\n",
        "      for j in range(columns):\n",
        "          if i==0:\n",
        "            axes[i, j].imshow(input[j].reshape(28, 28), cmap='gray')\n",
        "            axes[i, j].set_title(label[j].item(), fontsize=20) \n",
        "          if i==1:\n",
        "            axes[i, j].imshow(denoised[j].reshape(28, 28), cmap='gray')\n",
        "          if i==2:\n",
        "            axes[i, j].imshow(original[j].reshape(28, 28), cmap='gray')\n",
        "\n",
        "          axes[i, j].tick_params(left = False, right = False , labelleft = False,\n",
        "                  labelbottom = False, bottom = False)\n",
        "          \n",
        "  axes[0, 0].set_ylabel(\"INPUT\", fontsize=20)        \n",
        "  axes[1, 0].set_ylabel(\"DENOISED\", fontsize=20)\n",
        "  axes[2, 0].set_ylabel(\"ORIGINAL\", fontsize=20)\n",
        "  \n",
        "  plt.show()"
      ],
      "metadata": {
        "id": "MbcTpGsdbhBH"
      },
      "execution_count": null,
      "outputs": []
    },
    {
      "cell_type": "markdown",
      "source": [
        "# Single Layer Autoencoder"
      ],
      "metadata": {
        "id": "IEyhx-YWOKl0"
      }
    },
    {
      "cell_type": "code",
      "source": [
        "class Autoencoder(nn.Module):\n",
        "  def __init__(self, input_dim, enc_dim):\n",
        "    super(Autoencoder, self).__init__()\n",
        "    # encoder made of one linear layer that maps a vector of size input dim into a vector of size enc_dim\n",
        "    self.dense1 = nn.Linear(input_dim, enc_dim)\n",
        "\n",
        "    # the decoder will reconstruct the image in the original space\n",
        "    self.dense2 = nn.Linear(enc_dim, input_dim)\n",
        "   \n",
        "  def forward(self, x):\n",
        "    # encoding\n",
        "    x = F.relu(self.dense1(x))\n",
        "  \n",
        "    # decoding\n",
        "    x = F.sigmoid(self.dense2(x))\n",
        "    return x\n",
        "  \n",
        "  # return the encode of the input - used for deep AE with layerwise pretraining\n",
        "  def get_encoder(self, x):\n",
        "    x = F.relu(self.dense1(x))\n",
        "    return x\n",
        "  \n",
        "  # return the decoding of the latent space - used for deep AE with layerwise pretraining\n",
        "  def get_decoder(self, x):\n",
        "    x = F.sigmoid(self.dense2(x))\n",
        "    return x"
      ],
      "metadata": {
        "id": "GkQJdGkUOM7O"
      },
      "execution_count": null,
      "outputs": []
    },
    {
      "cell_type": "code",
      "source": [
        "model = Autoencoder(X_train.shape[1], encoding_dim)\n",
        "optimizer = torch.optim.Adam(model.parameters(), lr=0.001)\n",
        "history = fit(epochs, model, criterion, train_loader, optimizer)"
      ],
      "metadata": {
        "id": "r_V7IQbESJsF",
        "colab": {
          "base_uri": "https://localhost:8080/"
        },
        "outputId": "211fc913-0b57-47b6-9f9c-a70e2b71f5c4"
      },
      "execution_count": null,
      "outputs": [
        {
          "output_type": "stream",
          "name": "stdout",
          "text": [
            "Epoch: 1 \tTraining Loss: 0.716041212528944\n",
            "Epoch: 2 \tTraining Loss: 0.47679178070276973\n",
            "Epoch: 3 \tTraining Loss: 0.46180342805882296\n",
            "Epoch: 4 \tTraining Loss: 0.4559046070526044\n",
            "Epoch: 5 \tTraining Loss: 0.4520313224258522\n",
            "Epoch: 6 \tTraining Loss: 0.4488810024037957\n",
            "Epoch: 7 \tTraining Loss: 0.4461043173757692\n",
            "Epoch: 8 \tTraining Loss: 0.4440011969767511\n",
            "Epoch: 9 \tTraining Loss: 0.4420594193165501\n",
            "Epoch: 10 \tTraining Loss: 0.44048874521628023\n",
            "Epoch: 11 \tTraining Loss: 0.43911667179937164\n",
            "Epoch: 12 \tTraining Loss: 0.43832370849947133\n",
            "Epoch: 13 \tTraining Loss: 0.43702506336693964\n",
            "Epoch: 14 \tTraining Loss: 0.43634037680303056\n",
            "Epoch: 15 \tTraining Loss: 0.4355299234452347\n",
            "Epoch: 16 \tTraining Loss: 0.4349970082566142\n",
            "Epoch: 17 \tTraining Loss: 0.4346157638604442\n",
            "Epoch: 18 \tTraining Loss: 0.4342048427090049\n",
            "Epoch: 19 \tTraining Loss: 0.43364276487380266\n",
            "Epoch: 20 \tTraining Loss: 0.4336681215837598\n"
          ]
        }
      ]
    },
    {
      "cell_type": "code",
      "source": [
        "loss, noisy_data, denoised = evaluate(model, X_test, criterion)\n",
        "print(\"Single layer AutoEncoder loss:\", loss.item())"
      ],
      "metadata": {
        "id": "fhvWASEgfzJo",
        "colab": {
          "base_uri": "https://localhost:8080/"
        },
        "outputId": "46ffe518-062c-493a-cd56-041304e03d2f"
      },
      "execution_count": null,
      "outputs": [
        {
          "output_type": "stream",
          "name": "stdout",
          "text": [
            "Single layer AutoEncoder loss: 0.021166091784834862\n"
          ]
        }
      ]
    },
    {
      "cell_type": "code",
      "source": [
        "check_results(noisy_data, denoised, X_test, y_test)"
      ],
      "metadata": {
        "colab": {
          "base_uri": "https://localhost:8080/",
          "height": 543
        },
        "id": "zE69VIH3gu9t",
        "outputId": "6b5cbc91-8dd2-4544-b9cd-ff9e9533be21"
      },
      "execution_count": null,
      "outputs": [
        {
          "output_type": "display_data",
          "data": {
            "text/plain": [
              "<Figure size 3000x1000 with 15 Axes>"
            ],
            "image/png": "[encoded data removed]"
          },
          "metadata": {}
        }
      ]
    },
    {
      "cell_type": "markdown",
      "source": [
        "# Deep AutoEncoder with only layerwise pretraining"
      ],
      "metadata": {
        "id": "HNBIe4TEZehX"
      }
    },
    {
      "cell_type": "markdown",
      "source": [
        "https://www.kaggle.com/code/baogorek/autoencoder-with-greedy-layer-wise-pretraining/notebook\n",
        "\n",
        "https://machinelearningmastery.com/greedy-layer-wise-pretraining-tutorial/"
      ],
      "metadata": {
        "id": "FilsVonovOQ_"
      }
    },
    {
      "cell_type": "code",
      "source": [
        "layers=3"
      ],
      "metadata": {
        "id": "HC0i3hhxw6kC"
      },
      "execution_count": null,
      "outputs": []
    },
    {
      "cell_type": "code",
      "source": [
        "# use single layer AE class to build the deep autoencoder\n",
        "# in this implementation all the hidden layers have the same dimension\n",
        "\n",
        "# append first layer\n",
        "autoencoders = [Autoencoder(X_train.shape[1], encoding_dim)]\n",
        "\n",
        "# hidden\n",
        "for i in range(layers-1):\n",
        "  autoencoders.append(Autoencoder(encoding_dim, encoding_dim))\n",
        "    \n",
        "train_loader_first = train_loader\n",
        "\n",
        "print(train_loader_first)\n",
        "\n",
        "for ae in autoencoders:\n",
        "  optimizer = torch.optim.Adam(ae.parameters(), lr=0.001)\n",
        "  history = fit(epochs, ae, criterion, train_loader, optimizer)\n",
        "  encoding = ae.get_encoder\n",
        "  train_loader = torch.utils.data.DataLoader(encoding, batch_size=20)\n",
        "  print(train_loader)\n",
        "\n",
        "# last layer for decoding\n",
        "decoder = Autoencoder(encoding_dim, X_train.shape[1])\n",
        "optimizer = torch.optim.Adam(decoder.parameters(), lr=0.001)\n",
        "history = fit(epochs, decoder, criterion, train_loader, optimizer)"
      ],
      "metadata": {
        "id": "VHtxkz3Obfw_",
        "colab": {
          "base_uri": "https://localhost:8080/",
          "height": 762
        },
        "outputId": "251f462b-a758-40b4-a34f-edc761be4d89"
      },
      "execution_count": null,
      "outputs": [
        {
          "output_type": "stream",
          "name": "stdout",
          "text": [
            "<torch.utils.data.dataloader.DataLoader object at 0x7fe17a3efc70>\n",
            "Epoch: 1 \tTraining Loss: 0.7721840297679107\n",
            "Epoch: 2 \tTraining Loss: 0.537707352998356\n",
            "Epoch: 3 \tTraining Loss: 0.5242643078292409\n",
            "Epoch: 4 \tTraining Loss: 0.5179259733979901\n",
            "Epoch: 5 \tTraining Loss: 0.5138109305004279\n",
            "Epoch: 6 \tTraining Loss: 0.510106420814991\n",
            "Epoch: 7 \tTraining Loss: 0.5069579031566779\n",
            "Epoch: 8 \tTraining Loss: 0.5041015775874257\n",
            "Epoch: 9 \tTraining Loss: 0.5015211618940035\n",
            "Epoch: 10 \tTraining Loss: 0.49949169121682646\n",
            "Epoch: 11 \tTraining Loss: 0.4976816622292002\n",
            "Epoch: 12 \tTraining Loss: 0.49655547878394524\n",
            "Epoch: 13 \tTraining Loss: 0.4952722942456603\n",
            "Epoch: 14 \tTraining Loss: 0.4945905819411079\n",
            "Epoch: 15 \tTraining Loss: 0.49365028193841376\n",
            "Epoch: 16 \tTraining Loss: 0.49307019634793203\n",
            "Epoch: 17 \tTraining Loss: 0.4924740850056211\n",
            "Epoch: 18 \tTraining Loss: 0.49188450470566747\n",
            "Epoch: 19 \tTraining Loss: 0.49153790491322674\n",
            "Epoch: 20 \tTraining Loss: 0.4911811094606916\n",
            "<torch.utils.data.dataloader.DataLoader object at 0x7fe17a386b20>\n"
          ]
        },
        {
          "output_type": "error",
          "ename": "TypeError",
          "evalue": "ignored",
          "traceback": [
            "\u001b[0;31m---------------------------------------------------------------------------\u001b[0m",
            "\u001b[0;31mTypeError\u001b[0m                                 Traceback (most recent call last)",
            "\u001b[0;32m<ipython-input-18-421f1d1e9711>\u001b[0m in \u001b[0;36m<cell line: 15>\u001b[0;34m()\u001b[0m\n\u001b[1;32m     15\u001b[0m \u001b[0;32mfor\u001b[0m \u001b[0mae\u001b[0m \u001b[0;32min\u001b[0m \u001b[0mautoencoders\u001b[0m\u001b[0;34m:\u001b[0m\u001b[0;34m\u001b[0m\u001b[0;34m\u001b[0m\u001b[0m\n\u001b[1;32m     16\u001b[0m   \u001b[0moptimizer\u001b[0m \u001b[0;34m=\u001b[0m \u001b[0mtorch\u001b[0m\u001b[0;34m.\u001b[0m\u001b[0moptim\u001b[0m\u001b[0;34m.\u001b[0m\u001b[0mAdam\u001b[0m\u001b[0;34m(\u001b[0m\u001b[0mae\u001b[0m\u001b[0;34m.\u001b[0m\u001b[0mparameters\u001b[0m\u001b[0;34m(\u001b[0m\u001b[0;34m)\u001b[0m\u001b[0;34m,\u001b[0m \u001b[0mlr\u001b[0m\u001b[0;34m=\u001b[0m\u001b[0;36m0.001\u001b[0m\u001b[0;34m)\u001b[0m\u001b[0;34m\u001b[0m\u001b[0;34m\u001b[0m\u001b[0m\n\u001b[0;32m---> 17\u001b[0;31m   \u001b[0mhistory\u001b[0m \u001b[0;34m=\u001b[0m \u001b[0mfit\u001b[0m\u001b[0;34m(\u001b[0m\u001b[0mepochs\u001b[0m\u001b[0;34m,\u001b[0m \u001b[0mae\u001b[0m\u001b[0;34m,\u001b[0m \u001b[0mcriterion\u001b[0m\u001b[0;34m,\u001b[0m \u001b[0mtrain_loader\u001b[0m\u001b[0;34m,\u001b[0m \u001b[0moptimizer\u001b[0m\u001b[0;34m)\u001b[0m\u001b[0;34m\u001b[0m\u001b[0;34m\u001b[0m\u001b[0m\n\u001b[0m\u001b[1;32m     18\u001b[0m   \u001b[0mencoding\u001b[0m \u001b[0;34m=\u001b[0m \u001b[0mae\u001b[0m\u001b[0;34m.\u001b[0m\u001b[0mget_encoder\u001b[0m\u001b[0;34m\u001b[0m\u001b[0;34m\u001b[0m\u001b[0m\n\u001b[1;32m     19\u001b[0m   \u001b[0mtrain_loader\u001b[0m \u001b[0;34m=\u001b[0m \u001b[0mtorch\u001b[0m\u001b[0;34m.\u001b[0m\u001b[0mutils\u001b[0m\u001b[0;34m.\u001b[0m\u001b[0mdata\u001b[0m\u001b[0;34m.\u001b[0m\u001b[0mDataLoader\u001b[0m\u001b[0;34m(\u001b[0m\u001b[0mencoding\u001b[0m\u001b[0;34m,\u001b[0m \u001b[0mbatch_size\u001b[0m\u001b[0;34m=\u001b[0m\u001b[0;36m20\u001b[0m\u001b[0;34m)\u001b[0m\u001b[0;34m\u001b[0m\u001b[0;34m\u001b[0m\u001b[0m\n",
            "\u001b[0;32m<ipython-input-10-3f5a360a001d>\u001b[0m in \u001b[0;36mfit\u001b[0;34m(epochs, model, criterion, train_loader, optimizer)\u001b[0m\n\u001b[1;32m      5\u001b[0m     \u001b[0mtrain_loss\u001b[0m\u001b[0;34m=\u001b[0m\u001b[0;36m0.0\u001b[0m\u001b[0;34m\u001b[0m\u001b[0;34m\u001b[0m\u001b[0m\n\u001b[1;32m      6\u001b[0m \u001b[0;34m\u001b[0m\u001b[0m\n\u001b[0;32m----> 7\u001b[0;31m     \u001b[0;32mfor\u001b[0m \u001b[0mimages\u001b[0m \u001b[0;32min\u001b[0m \u001b[0mtrain_loader\u001b[0m\u001b[0;34m:\u001b[0m\u001b[0;34m\u001b[0m\u001b[0;34m\u001b[0m\u001b[0m\n\u001b[0m\u001b[1;32m      8\u001b[0m       \u001b[0;31m# reset gradient\u001b[0m\u001b[0;34m\u001b[0m\u001b[0;34m\u001b[0m\u001b[0m\n\u001b[1;32m      9\u001b[0m       \u001b[0moptimizer\u001b[0m\u001b[0;34m.\u001b[0m\u001b[0mzero_grad\u001b[0m\u001b[0;34m(\u001b[0m\u001b[0;34m)\u001b[0m\u001b[0;34m\u001b[0m\u001b[0;34m\u001b[0m\u001b[0m\n",
            "\u001b[0;32m/usr/local/lib/python3.9/dist-packages/torch/utils/data/dataloader.py\u001b[0m in \u001b[0;36m__next__\u001b[0;34m(self)\u001b[0m\n\u001b[1;32m    632\u001b[0m                 \u001b[0;31m# TODO(https://github.com/pytorch/pytorch/issues/76750)\u001b[0m\u001b[0;34m\u001b[0m\u001b[0;34m\u001b[0m\u001b[0m\n\u001b[1;32m    633\u001b[0m                 \u001b[0mself\u001b[0m\u001b[0;34m.\u001b[0m\u001b[0m_reset\u001b[0m\u001b[0;34m(\u001b[0m\u001b[0;34m)\u001b[0m  \u001b[0;31m# type: ignore[call-arg]\u001b[0m\u001b[0;34m\u001b[0m\u001b[0;34m\u001b[0m\u001b[0m\n\u001b[0;32m--> 634\u001b[0;31m             \u001b[0mdata\u001b[0m \u001b[0;34m=\u001b[0m \u001b[0mself\u001b[0m\u001b[0;34m.\u001b[0m\u001b[0m_next_data\u001b[0m\u001b[0;34m(\u001b[0m\u001b[0;34m)\u001b[0m\u001b[0;34m\u001b[0m\u001b[0;34m\u001b[0m\u001b[0m\n\u001b[0m\u001b[1;32m    635\u001b[0m             \u001b[0mself\u001b[0m\u001b[0;34m.\u001b[0m\u001b[0m_num_yielded\u001b[0m \u001b[0;34m+=\u001b[0m \u001b[0;36m1\u001b[0m\u001b[0;34m\u001b[0m\u001b[0;34m\u001b[0m\u001b[0m\n\u001b[1;32m    636\u001b[0m             \u001b[0;32mif\u001b[0m \u001b[0mself\u001b[0m\u001b[0;34m.\u001b[0m\u001b[0m_dataset_kind\u001b[0m \u001b[0;34m==\u001b[0m \u001b[0m_DatasetKind\u001b[0m\u001b[0;34m.\u001b[0m\u001b[0mIterable\u001b[0m \u001b[0;32mand\u001b[0m\u001b[0;31m \u001b[0m\u001b[0;31m\\\u001b[0m\u001b[0;34m\u001b[0m\u001b[0;34m\u001b[0m\u001b[0m\n",
            "\u001b[0;32m/usr/local/lib/python3.9/dist-packages/torch/utils/data/dataloader.py\u001b[0m in \u001b[0;36m_next_data\u001b[0;34m(self)\u001b[0m\n\u001b[1;32m    675\u001b[0m \u001b[0;34m\u001b[0m\u001b[0m\n\u001b[1;32m    676\u001b[0m     \u001b[0;32mdef\u001b[0m \u001b[0m_next_data\u001b[0m\u001b[0;34m(\u001b[0m\u001b[0mself\u001b[0m\u001b[0;34m)\u001b[0m\u001b[0;34m:\u001b[0m\u001b[0;34m\u001b[0m\u001b[0;34m\u001b[0m\u001b[0m\n\u001b[0;32m--> 677\u001b[0;31m         \u001b[0mindex\u001b[0m \u001b[0;34m=\u001b[0m \u001b[0mself\u001b[0m\u001b[0;34m.\u001b[0m\u001b[0m_next_index\u001b[0m\u001b[0;34m(\u001b[0m\u001b[0;34m)\u001b[0m  \u001b[0;31m# may raise StopIteration\u001b[0m\u001b[0;34m\u001b[0m\u001b[0;34m\u001b[0m\u001b[0m\n\u001b[0m\u001b[1;32m    678\u001b[0m         \u001b[0mdata\u001b[0m \u001b[0;34m=\u001b[0m \u001b[0mself\u001b[0m\u001b[0;34m.\u001b[0m\u001b[0m_dataset_fetcher\u001b[0m\u001b[0;34m.\u001b[0m\u001b[0mfetch\u001b[0m\u001b[0;34m(\u001b[0m\u001b[0mindex\u001b[0m\u001b[0;34m)\u001b[0m  \u001b[0;31m# may raise StopIteration\u001b[0m\u001b[0;34m\u001b[0m\u001b[0;34m\u001b[0m\u001b[0m\n\u001b[1;32m    679\u001b[0m         \u001b[0;32mif\u001b[0m \u001b[0mself\u001b[0m\u001b[0;34m.\u001b[0m\u001b[0m_pin_memory\u001b[0m\u001b[0;34m:\u001b[0m\u001b[0;34m\u001b[0m\u001b[0;34m\u001b[0m\u001b[0m\n",
            "\u001b[0;32m/usr/local/lib/python3.9/dist-packages/torch/utils/data/dataloader.py\u001b[0m in \u001b[0;36m_next_index\u001b[0;34m(self)\u001b[0m\n\u001b[1;32m    622\u001b[0m \u001b[0;34m\u001b[0m\u001b[0m\n\u001b[1;32m    623\u001b[0m     \u001b[0;32mdef\u001b[0m \u001b[0m_next_index\u001b[0m\u001b[0;34m(\u001b[0m\u001b[0mself\u001b[0m\u001b[0;34m)\u001b[0m\u001b[0;34m:\u001b[0m\u001b[0;34m\u001b[0m\u001b[0;34m\u001b[0m\u001b[0m\n\u001b[0;32m--> 624\u001b[0;31m         \u001b[0;32mreturn\u001b[0m \u001b[0mnext\u001b[0m\u001b[0;34m(\u001b[0m\u001b[0mself\u001b[0m\u001b[0;34m.\u001b[0m\u001b[0m_sampler_iter\u001b[0m\u001b[0;34m)\u001b[0m  \u001b[0;31m# may raise StopIteration\u001b[0m\u001b[0;34m\u001b[0m\u001b[0;34m\u001b[0m\u001b[0m\n\u001b[0m\u001b[1;32m    625\u001b[0m \u001b[0;34m\u001b[0m\u001b[0m\n\u001b[1;32m    626\u001b[0m     \u001b[0;32mdef\u001b[0m \u001b[0m_next_data\u001b[0m\u001b[0;34m(\u001b[0m\u001b[0mself\u001b[0m\u001b[0;34m)\u001b[0m\u001b[0;34m:\u001b[0m\u001b[0;34m\u001b[0m\u001b[0;34m\u001b[0m\u001b[0m\n",
            "\u001b[0;32m/usr/local/lib/python3.9/dist-packages/torch/utils/data/sampler.py\u001b[0m in \u001b[0;36m__iter__\u001b[0;34m(self)\u001b[0m\n\u001b[1;32m    252\u001b[0m             \u001b[0mbatch\u001b[0m \u001b[0;34m=\u001b[0m \u001b[0;34m[\u001b[0m\u001b[0;36m0\u001b[0m\u001b[0;34m]\u001b[0m \u001b[0;34m*\u001b[0m \u001b[0mself\u001b[0m\u001b[0;34m.\u001b[0m\u001b[0mbatch_size\u001b[0m\u001b[0;34m\u001b[0m\u001b[0;34m\u001b[0m\u001b[0m\n\u001b[1;32m    253\u001b[0m             \u001b[0midx_in_batch\u001b[0m \u001b[0;34m=\u001b[0m \u001b[0;36m0\u001b[0m\u001b[0;34m\u001b[0m\u001b[0;34m\u001b[0m\u001b[0m\n\u001b[0;32m--> 254\u001b[0;31m             \u001b[0;32mfor\u001b[0m \u001b[0midx\u001b[0m \u001b[0;32min\u001b[0m \u001b[0mself\u001b[0m\u001b[0;34m.\u001b[0m\u001b[0msampler\u001b[0m\u001b[0;34m:\u001b[0m\u001b[0;34m\u001b[0m\u001b[0;34m\u001b[0m\u001b[0m\n\u001b[0m\u001b[1;32m    255\u001b[0m                 \u001b[0mbatch\u001b[0m\u001b[0;34m[\u001b[0m\u001b[0midx_in_batch\u001b[0m\u001b[0;34m]\u001b[0m \u001b[0;34m=\u001b[0m \u001b[0midx\u001b[0m\u001b[0;34m\u001b[0m\u001b[0;34m\u001b[0m\u001b[0m\n\u001b[1;32m    256\u001b[0m                 \u001b[0midx_in_batch\u001b[0m \u001b[0;34m+=\u001b[0m \u001b[0;36m1\u001b[0m\u001b[0;34m\u001b[0m\u001b[0;34m\u001b[0m\u001b[0m\n",
            "\u001b[0;32m/usr/local/lib/python3.9/dist-packages/torch/utils/data/sampler.py\u001b[0m in \u001b[0;36m__iter__\u001b[0;34m(self)\u001b[0m\n\u001b[1;32m     74\u001b[0m \u001b[0;34m\u001b[0m\u001b[0m\n\u001b[1;32m     75\u001b[0m     \u001b[0;32mdef\u001b[0m \u001b[0m__iter__\u001b[0m\u001b[0;34m(\u001b[0m\u001b[0mself\u001b[0m\u001b[0;34m)\u001b[0m \u001b[0;34m->\u001b[0m \u001b[0mIterator\u001b[0m\u001b[0;34m[\u001b[0m\u001b[0mint\u001b[0m\u001b[0;34m]\u001b[0m\u001b[0;34m:\u001b[0m\u001b[0;34m\u001b[0m\u001b[0;34m\u001b[0m\u001b[0m\n\u001b[0;32m---> 76\u001b[0;31m         \u001b[0;32mreturn\u001b[0m \u001b[0miter\u001b[0m\u001b[0;34m(\u001b[0m\u001b[0mrange\u001b[0m\u001b[0;34m(\u001b[0m\u001b[0mlen\u001b[0m\u001b[0;34m(\u001b[0m\u001b[0mself\u001b[0m\u001b[0;34m.\u001b[0m\u001b[0mdata_source\u001b[0m\u001b[0;34m)\u001b[0m\u001b[0;34m)\u001b[0m\u001b[0;34m)\u001b[0m\u001b[0;34m\u001b[0m\u001b[0;34m\u001b[0m\u001b[0m\n\u001b[0m\u001b[1;32m     77\u001b[0m \u001b[0;34m\u001b[0m\u001b[0m\n\u001b[1;32m     78\u001b[0m     \u001b[0;32mdef\u001b[0m \u001b[0m__len__\u001b[0m\u001b[0;34m(\u001b[0m\u001b[0mself\u001b[0m\u001b[0;34m)\u001b[0m \u001b[0;34m->\u001b[0m \u001b[0mint\u001b[0m\u001b[0;34m:\u001b[0m\u001b[0;34m\u001b[0m\u001b[0;34m\u001b[0m\u001b[0m\n",
            "\u001b[0;31mTypeError\u001b[0m: object of type 'method' has no len()"
          ]
        }
      ]
    }
  ]
}